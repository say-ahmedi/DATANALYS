{
 "cells": [
  {
   "cell_type": "markdown",
   "id": "2216778b",
   "metadata": {},
   "source": [
    "# 🚢 Titanic Survival Analysis\n",
    "This notebook follows a step-by-step to-do list for exploring and analyzing the Titanic dataset."
   ]
  },
  {
   "cell_type": "markdown",
   "id": "acfc5857",
   "metadata": {},
   "source": [
    "### 📌 Key Questions to Answer  \n",
    "1. Did women and children have higher survival rates?  \n",
    "2. How did passenger class (`Pclass`) affect survival?  \n",
    "3. Did passengers who paid higher fares survive more?  \n",
    "4. Did traveling with family (`SibSp`, `Parch`) improve survival chances?  \n",
    "5. Did the embarkation port (`Embarked`) influence survival?  \n",
    "6. Was there a correlation between age and survival?"
   ]
  },
  {
   "cell_type": "markdown",
   "id": "50afed0f",
   "metadata": {},
   "source": [
    "## 🔍 Data Inspection & Cleaning\n",
    "### ✅ Step 1: Load and Inspect Dataset"
   ]
  },
  {
   "cell_type": "code",
   "execution_count": 6,
   "id": "45c329b3",
   "metadata": {},
   "outputs": [
    {
     "name": "stdout",
     "output_type": "stream",
     "text": [
      "<class 'pandas.core.frame.DataFrame'>\n",
      "RangeIndex: 891 entries, 0 to 890\n",
      "Data columns (total 12 columns):\n",
      " #   Column       Non-Null Count  Dtype  \n",
      "---  ------       --------------  -----  \n",
      " 0   PassengerId  891 non-null    int64  \n",
      " 1   Survived     891 non-null    int64  \n",
      " 2   Pclass       891 non-null    int64  \n",
      " 3   Name         891 non-null    object \n",
      " 4   Sex          891 non-null    object \n",
      " 5   Age          714 non-null    float64\n",
      " 6   SibSp        891 non-null    int64  \n",
      " 7   Parch        891 non-null    int64  \n",
      " 8   Ticket       891 non-null    object \n",
      " 9   Fare         891 non-null    float64\n",
      " 10  Cabin        204 non-null    object \n",
      " 11  Embarked     889 non-null    object \n",
      "dtypes: float64(2), int64(5), object(5)\n",
      "memory usage: 83.7+ KB\n",
      "None\n",
      "       PassengerId    Survived      Pclass         Age       SibSp  \\\n",
      "count   891.000000  891.000000  891.000000  714.000000  891.000000   \n",
      "mean    446.000000    0.383838    2.308642   29.699118    0.523008   \n",
      "std     257.353842    0.486592    0.836071   14.526497    1.102743   \n",
      "min       1.000000    0.000000    1.000000    0.420000    0.000000   \n",
      "25%     223.500000    0.000000    2.000000   20.125000    0.000000   \n",
      "50%     446.000000    0.000000    3.000000   28.000000    0.000000   \n",
      "75%     668.500000    1.000000    3.000000   38.000000    1.000000   \n",
      "max     891.000000    1.000000    3.000000   80.000000    8.000000   \n",
      "\n",
      "            Parch        Fare  \n",
      "count  891.000000  891.000000  \n",
      "mean     0.381594   32.204208  \n",
      "std      0.806057   49.693429  \n",
      "min      0.000000    0.000000  \n",
      "25%      0.000000    7.910400  \n",
      "50%      0.000000   14.454200  \n",
      "75%      0.000000   31.000000  \n",
      "max      6.000000  512.329200  \n"
     ]
    }
   ],
   "source": [
    "import pandas as pd\n",
    "import numpy as np\n",
    "import matplotlib.pyplot as plt\n",
    "import seaborn as sns\n",
    "df = pd.read_csv('assets/Titanic-Dataset.csv')\n",
    "print(df.info())\n",
    "print(df.describe())"
   ]
  },
  {
   "cell_type": "code",
   "execution_count": 8,
   "id": "42ea9f1b",
   "metadata": {},
   "outputs": [
    {
     "data": {
      "text/html": [
       "<div>\n",
       "<style scoped>\n",
       "    .dataframe tbody tr th:only-of-type {\n",
       "        vertical-align: middle;\n",
       "    }\n",
       "\n",
       "    .dataframe tbody tr th {\n",
       "        vertical-align: top;\n",
       "    }\n",
       "\n",
       "    .dataframe thead th {\n",
       "        text-align: right;\n",
       "    }\n",
       "</style>\n",
       "<table border=\"1\" class=\"dataframe\">\n",
       "  <thead>\n",
       "    <tr style=\"text-align: right;\">\n",
       "      <th></th>\n",
       "      <th>Age</th>\n",
       "    </tr>\n",
       "  </thead>\n",
       "  <tbody>\n",
       "    <tr>\n",
       "      <th>1</th>\n",
       "      <td>38.0</td>\n",
       "    </tr>\n",
       "    <tr>\n",
       "      <th>3</th>\n",
       "      <td>35.0</td>\n",
       "    </tr>\n",
       "    <tr>\n",
       "      <th>4</th>\n",
       "      <td>35.0</td>\n",
       "    </tr>\n",
       "    <tr>\n",
       "      <th>6</th>\n",
       "      <td>54.0</td>\n",
       "    </tr>\n",
       "    <tr>\n",
       "      <th>11</th>\n",
       "      <td>58.0</td>\n",
       "    </tr>\n",
       "    <tr>\n",
       "      <th>...</th>\n",
       "      <td>...</td>\n",
       "    </tr>\n",
       "    <tr>\n",
       "      <th>873</th>\n",
       "      <td>47.0</td>\n",
       "    </tr>\n",
       "    <tr>\n",
       "      <th>879</th>\n",
       "      <td>56.0</td>\n",
       "    </tr>\n",
       "    <tr>\n",
       "      <th>881</th>\n",
       "      <td>33.0</td>\n",
       "    </tr>\n",
       "    <tr>\n",
       "      <th>885</th>\n",
       "      <td>39.0</td>\n",
       "    </tr>\n",
       "    <tr>\n",
       "      <th>890</th>\n",
       "      <td>32.0</td>\n",
       "    </tr>\n",
       "  </tbody>\n",
       "</table>\n",
       "<p>330 rows × 1 columns</p>\n",
       "</div>"
      ],
      "text/plain": [
       "      Age\n",
       "1    38.0\n",
       "3    35.0\n",
       "4    35.0\n",
       "6    54.0\n",
       "11   58.0\n",
       "..    ...\n",
       "873  47.0\n",
       "879  56.0\n",
       "881  33.0\n",
       "885  39.0\n",
       "890  32.0\n",
       "\n",
       "[330 rows x 1 columns]"
      ]
     },
     "execution_count": 8,
     "metadata": {},
     "output_type": "execute_result"
    }
   ],
   "source": [
    "df.loc[df['Age'] > df['Age'].mean(),['Age']]"
   ]
  },
  {
   "cell_type": "markdown",
   "id": "545c223c",
   "metadata": {},
   "source": [
    "### ✅ Step 2: Check for Missing Values"
   ]
  },
  {
   "cell_type": "code",
   "execution_count": 44,
   "id": "336d4704",
   "metadata": {},
   "outputs": [
    {
     "name": "stdout",
     "output_type": "stream",
     "text": [
      "PassengerId      0\n",
      "Survived         0\n",
      "Pclass           0\n",
      "Name             0\n",
      "Sex              0\n",
      "Age              0\n",
      "SibSp            0\n",
      "Parch            0\n",
      "Ticket           0\n",
      "Fare             0\n",
      "Cabin          687\n",
      "Embarked         0\n",
      "dtype: int64\n",
      "0\n",
      "0\n",
      "Index(['PassengerId', 'Survived', 'Pclass', 'Name', 'Sex', 'Age', 'SibSp',\n",
      "       'Parch', 'Ticket', 'Fare', 'Cabin', 'Embarked'],\n",
      "      dtype='object')\n",
      "Index(['PassengerId', 'Survived', 'Pclass', 'Name', 'Sex', 'Age', 'SibSp',\n",
      "       'Parch', 'Ticket', 'Fare', 'Embarked'],\n",
      "      dtype='object')\n"
     ]
    }
   ],
   "source": [
    "print(df.isnull().sum())\n",
    "df.loc[df['Age'].isna(),['Age']] = df['Age'].mean()\n",
    "\n",
    "print(df['Age'].isnull().sum())\n",
    "\n",
    "df.loc[df['Embarked'].isna(),'Embarked'] = df['Embarked'].mode()[0]\n",
    "\n",
    "print(df['Embarked'].isna().sum())\n",
    "\n",
    "# df['Cabin'].isnull//\n",
    "print(df.columns)\n",
    "print(df.dropna(thresh=df.shape[0]-len(df)//2,axis=1).columns)"
   ]
  },
  {
   "cell_type": "code",
   "execution_count": null,
   "id": "44e726d1",
   "metadata": {},
   "outputs": [
    {
     "data": {
      "text/plain": [
       "PassengerId\n",
       "804    0.42\n",
       "756    0.67\n",
       "645    0.75\n",
       "470    0.75\n",
       "79     0.83\n",
       "       ... \n",
       "860     NaN\n",
       "864     NaN\n",
       "869     NaN\n",
       "879     NaN\n",
       "889     NaN\n",
       "Name: Age, Length: 891, dtype: float64"
      ]
     },
     "execution_count": 33,
     "metadata": {},
     "output_type": "execute_result"
    }
   ],
   "source": [
    "# new_df = pd.read_csv('assets/Titanic-Dataset.csv',index_col='PassengerId')\n",
    "# new_df.sort_index(axis='index',ascending=False)"
   ]
  },
  {
   "cell_type": "markdown",
   "id": "d9f62d80",
   "metadata": {},
   "source": [
    "### ✅ Step 3: Handle Missing Data"
   ]
  },
  {
   "cell_type": "code",
   "execution_count": 54,
   "id": "d78ac6ac",
   "metadata": {},
   "outputs": [
    {
     "name": "stdout",
     "output_type": "stream",
     "text": [
      "   PassengerId  Survived  Pclass  \\\n",
      "0            1         0       3   \n",
      "1            2         1       1   \n",
      "\n",
      "                                                Name     Sex   Age  SibSp  \\\n",
      "0                            Braund, Mr. Owen Harris    male  22.0      1   \n",
      "1  Cumings, Mrs. John Bradley (Florence Briggs Th...  female  38.0      1   \n",
      "\n",
      "   Parch     Ticket     Fare Embarked  \n",
      "0      0  A/5 21171   7.2500        S  \n",
      "1      0   PC 17599  71.2833        C  \n"
     ]
    }
   ],
   "source": [
    "# df = df.dropna(thresh=len(df)//2,axis=1)\n",
    "print(df.head(2))"
   ]
  },
  {
   "cell_type": "markdown",
   "id": "e76c384e",
   "metadata": {},
   "source": [
    "### ✅ Step 4: Drop Unnecessary Columns"
   ]
  },
  {
   "cell_type": "markdown",
   "id": "d6df8854",
   "metadata": {},
   "source": [
    "## 📊 Univariate Analysis"
   ]
  },
  {
   "cell_type": "markdown",
   "id": "411825b6",
   "metadata": {},
   "source": [
    "- Age: Histogram to see age distribution  \n",
    "- Fare: Box plot to detect outliers  \n",
    "- Survived: Pie chart  \n",
    "- Sex, Pclass, Embarked: Bar plots"
   ]
  },
  {
   "cell_type": "code",
   "execution_count": 86,
   "id": "348e6493",
   "metadata": {},
   "outputs": [
    {
     "data": {
      "image/png": "[encoded data removed]",
      "text/plain": [
       "<Figure size 1000x600 with 1 Axes>"
      ]
     },
     "metadata": {},
     "output_type": "display_data"
    }
   ],
   "source": [
    "# df.nlargest(5,'Age')\n",
    "fig, ax = plt.subplots(figsize=(10,6))\n",
    "ax.hist(df['Age'], \n",
    "        bins=25,\n",
    "        color='red',\n",
    "        edgecolor='darkblue')\n",
    "ax.set_title('Distribution of Passenger Ages (Titanic)')\n",
    "ax.set_xlabel('Age')\n",
    "ax.set_ylabel('Count')\n",
    "plt.show()"
   ]
  },
  {
   "cell_type": "code",
   "execution_count": 97,
   "id": "fdf99f40",
   "metadata": {},
   "outputs": [
    {
     "data": {
      "image/png": "[encoded data removed]",
      "text/plain": [
       "<Figure size 640x480 with 1 Axes>"
      ]
     },
     "metadata": {},
     "output_type": "display_data"
    }
   ],
   "source": [
    "sns.boxplot(df['Fare'])\n",
    "Q1 = df['Fare'].quantile(0.25)\n",
    "Q3 = df['Fare'].quantile(0.75)\n",
    "IQR = Q1 - Q3 \n",
    "upper_bound = Q3 +1.5*IQR\n",
    "outliers = df[df['Fare'] > upper_bound]"
   ]
  },
  {
   "cell_type": "markdown",
   "id": "b395dc0d",
   "metadata": {},
   "source": [
    "## 📊 Bivariate Analysis"
   ]
  },
  {
   "cell_type": "markdown",
   "id": "74b3139a",
   "metadata": {},
   "source": [
    "- Survival vs. Sex: Bar plot  \n",
    "- Survival vs. Pclass: Stacked bar plot  \n",
    "- Survival vs. Age: Histograms or KDE plots  \n",
    "- Survival vs. Fare: Box plot  \n",
    "- Survival vs. Family Size: Bar plot"
   ]
  },
  {
   "cell_type": "markdown",
   "id": "aa163cf5",
   "metadata": {},
   "source": [
    "## 📊 Multivariate Analysis"
   ]
  },
  {
   "cell_type": "markdown",
   "id": "6a6a0fe1",
   "metadata": {},
   "source": [
    "- Survival by Pclass and Sex: Grouped bar plot  \n",
    "- Survival by Age and Fare: Scatter plot colored by survival"
   ]
  },
  {
   "cell_type": "markdown",
   "id": "083794da",
   "metadata": {},
   "source": [
    "## 🔥 Correlation Heatmap"
   ]
  },
  {
   "cell_type": "markdown",
   "id": "64329ac8",
   "metadata": {},
   "source": [
    "- Check correlation between numerical features like Pclass, Fare, Age, FamilySize, and Survived"
   ]
  },
  {
   "cell_type": "markdown",
   "id": "24c532c3",
   "metadata": {},
   "source": [
    "## 🔧 Feature Engineering"
   ]
  },
  {
   "cell_type": "markdown",
   "id": "3d53a7c1",
   "metadata": {},
   "source": [
    "- Create FamilySize = SibSp + Parch  \n",
    "- Create AgeGroup = child, teen, adult, senior  \n",
    "- Create IsAlone = 1 if FamilySize == 0 else 0"
   ]
  },
  {
   "cell_type": "markdown",
   "id": "aa82f9cf",
   "metadata": {},
   "source": [
    "## 📝 Summary of Findings\n",
    "- Answer key questions  \n",
    "- List top 3 factors influencing survival  \n",
    "- Note surprising findings"
   ]
  }
 ],
 "metadata": {
  "kernelspec": {
   "display_name": "Python 3",
   "language": "python",
   "name": "python3"
  },
  "language_info": {
   "codemirror_mode": {
    "name": "ipython",
    "version": 3
   },
   "file_extension": ".py",
   "mimetype": "text/x-python",
   "name": "python",
   "nbconvert_exporter": "python",
   "pygments_lexer": "ipython3",
   "version": "3.12.4"
  }
 },
 "nbformat": 4,
 "nbformat_minor": 5
}
