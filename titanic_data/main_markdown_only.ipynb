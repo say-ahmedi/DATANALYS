{
 "cells": [
  {
   "cell_type": "markdown",
   "id": "2216778b",
   "metadata": {},
   "source": [
    "# 🚢 Titanic Survival Analysis\n",
    "This notebook follows a step-by-step to-do list for exploring and analyzing the Titanic dataset."
   ]
  },
  {
   "cell_type": "markdown",
   "id": "acfc5857",
   "metadata": {},
   "source": [
    "### 📌 Key Questions to Answer  \n",
    "1. Did women and children have higher survival rates?  \n",
    "2. How did passenger class (`Pclass`) affect survival?  \n",
    "3. Did passengers who paid higher fares survive more?  \n",
    "4. Did traveling with family (`SibSp`, `Parch`) improve survival chances?  \n",
    "5. Did the embarkation port (`Embarked`) influence survival?  \n",
    "6. Was there a correlation between age and survival?"
   ]
  },
  {
   "cell_type": "markdown",
   "id": "50afed0f",
   "metadata": {},
   "source": [
    "## 🔍 Data Inspection & Cleaning\n",
    "### ✅ Step 1: Load and Inspect Dataset"
   ]
  },
  {
   "cell_type": "markdown",
   "id": "545c223c",
   "metadata": {},
   "source": [
    "### ✅ Step 2: Check for Missing Values"
   ]
  },
  {
   "cell_type": "markdown",
   "id": "d9f62d80",
   "metadata": {},
   "source": [
    "### ✅ Step 3: Handle Missing Data"
   ]
  },
  {
   "cell_type": "markdown",
   "id": "e76c384e",
   "metadata": {},
   "source": [
    "### ✅ Step 4: Drop Unnecessary Columns"
   ]
  },
  {
   "cell_type": "markdown",
   "id": "d6df8854",
   "metadata": {},
   "source": [
    "## 📊 Univariate Analysis"
   ]
  },
  {
   "cell_type": "markdown",
   "id": "411825b6",
   "metadata": {},
   "source": [
    "- Age: Histogram to see age distribution  \n",
    "- Fare: Box plot to detect outliers  \n",
    "- Survived: Pie chart  \n",
    "- Sex, Pclass, Embarked: Bar plots"
   ]
  },
  {
   "cell_type": "markdown",
   "id": "b395dc0d",
   "metadata": {},
   "source": [
    "## 📊 Bivariate Analysis"
   ]
  },
  {
   "cell_type": "markdown",
   "id": "74b3139a",
   "metadata": {},
   "source": [
    "- Survival vs. Sex: Bar plot  \n",
    "- Survival vs. Pclass: Stacked bar plot  \n",
    "- Survival vs. Age: Histograms or KDE plots  \n",
    "- Survival vs. Fare: Box plot  \n",
    "- Survival vs. Family Size: Bar plot"
   ]
  },
  {
   "cell_type": "markdown",
   "id": "aa163cf5",
   "metadata": {},
   "source": [
    "## 📊 Multivariate Analysis"
   ]
  },
  {
   "cell_type": "markdown",
   "id": "6a6a0fe1",
   "metadata": {},
   "source": [
    "- Survival by Pclass and Sex: Grouped bar plot  \n",
    "- Survival by Age and Fare: Scatter plot colored by survival"
   ]
  },
  {
   "cell_type": "markdown",
   "id": "083794da",
   "metadata": {},
   "source": [
    "## 🔥 Correlation Heatmap"
   ]
  },
  {
   "cell_type": "markdown",
   "id": "64329ac8",
   "metadata": {},
   "source": [
    "- Check correlation between numerical features like Pclass, Fare, Age, FamilySize, and Survived"
   ]
  },
  {
   "cell_type": "markdown",
   "id": "24c532c3",
   "metadata": {},
   "source": [
    "## 🔧 Feature Engineering"
   ]
  },
  {
   "cell_type": "markdown",
   "id": "3d53a7c1",
   "metadata": {},
   "source": [
    "- Create FamilySize = SibSp + Parch  \n",
    "- Create AgeGroup = child, teen, adult, senior  \n",
    "- Create IsAlone = 1 if FamilySize == 0 else 0"
   ]
  },
  {
   "cell_type": "markdown",
   "id": "aa82f9cf",
   "metadata": {},
   "source": [
    "## 📝 Summary of Findings\n",
    "- Answer key questions  \n",
    "- List top 3 factors influencing survival  \n",
    "- Note surprising findings"
   ]
  }
 ],
 "metadata": {},
 "nbformat": 4,
 "nbformat_minor": 5
}